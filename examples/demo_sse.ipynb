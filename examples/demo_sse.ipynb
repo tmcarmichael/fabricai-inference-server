{
 "cells": [
  {
   "cell_type": "code",
   "execution_count": null,
   "id": "078394b1",
   "metadata": {},
   "outputs": [
    {
     "name": "stdout",
     "output_type": "stream",
     "text": [
      "Collecting requests\n",
      "  Using cached requests-2.32.3-py3-none-any.whl.metadata (4.6 kB)\n",
      "Collecting charset-normalizer<4,>=2 (from requests)\n",
      "  Using cached charset_normalizer-3.4.1-cp312-cp312-macosx_10_13_universal2.whl.metadata (35 kB)\n",
      "Collecting idna<4,>=2.5 (from requests)\n",
      "  Using cached idna-3.10-py3-none-any.whl.metadata (10 kB)\n",
      "Collecting urllib3<3,>=1.21.1 (from requests)\n",
      "  Using cached urllib3-2.4.0-py3-none-any.whl.metadata (6.5 kB)\n",
      "Requirement already satisfied: certifi>=2017.4.17 in /Library/Frameworks/Python.framework/Versions/3.12/lib/python3.12/site-packages (from requests) (2025.1.31)\n",
      "Using cached requests-2.32.3-py3-none-any.whl (64 kB)\n",
      "Using cached charset_normalizer-3.4.1-cp312-cp312-macosx_10_13_universal2.whl (196 kB)\n",
      "Using cached idna-3.10-py3-none-any.whl (70 kB)\n",
      "Using cached urllib3-2.4.0-py3-none-any.whl (128 kB)\n",
      "Installing collected packages: urllib3, idna, charset-normalizer, requests\n",
      "Successfully installed charset-normalizer-3.4.1 idna-3.10 requests-2.32.3 urllib3-2.4.0\n"
     ]
    }
   ],
   "source": [
    "%pip install requests"
   ]
  },
  {
   "cell_type": "code",
   "execution_count": null,
   "id": "d91c14ba",
   "metadata": {},
   "outputs": [
    {
     "name": "stdout",
     "output_type": "stream",
     "text": [
      "data: \n",
      "data: \n",
      "data: Once\n",
      "data:  upon\n",
      "data:  a\n",
      "data:  time\n",
      "data: ,\n",
      "data:  in\n",
      "data:  a\n",
      "data:  qu\n",
      "data: aint\n",
      "data:  little\n",
      "data:  village\n",
      "data:  nest\n",
      "data: led\n",
      "data:  between\n",
      "data:  the\n",
      "data:  rolling\n",
      "data:  hills\n",
      "data:  and\n",
      "data:  l\n",
      "data: ush\n",
      "data:  green\n",
      "data:  for\n",
      "data: ests\n",
      "data: ,\n",
      "data:  there\n",
      "data:  lived\n",
      "data:  an\n",
      "data:  old\n",
      "data:  couple\n",
      "data:  named\n",
      "data:  Tom\n",
      "data:  and\n",
      "data:  Jane\n",
      "data: .\n",
      "data:  They\n",
      "data:  had\n",
      "data:  always\n",
      "data:  been\n",
      "data:  known\n",
      "data:  for\n",
      "data:  their\n",
      "data:  warm\n",
      "data:  hospital\n",
      "data: ity\n",
      "data:  and\n",
      "data:  kind\n",
      "data:  hearts\n",
      "data: ,\n",
      "data:  but\n",
      "data:  they\n",
      "data:  never\n",
      "data:  imag\n",
      "data: ined\n",
      "data:  that\n",
      "data:  one\n",
      "data:  day\n",
      "data:  a\n",
      "data:  mag\n",
      "data: ical\n",
      "data:  creature\n",
      "data:  would\n",
      "data:  appear\n",
      "data:  right\n",
      "data:  outside\n",
      "data:  their\n",
      "data:  door\n",
      "data: step\n",
      "data: ,\n",
      "data:  turning\n",
      "data:  their\n",
      "data:  lives\n",
      "data:  ups\n",
      "data: ide\n",
      "data:  down\n",
      "data: .\n",
      "data: \n",
      "data: \n",
      "data: One\n"
     ]
    }
   ],
   "source": [
    "# Ensure inference server is running, use run.sh from root.\n",
    "\n",
    "import requests\n",
    "\n",
    "url = \"http://localhost:8000/v1/inference_sse\"\n",
    "payload = {\n",
    "    \"prompt\": \"Tell me a story about a talking cat:\",\n",
    "    \"max_tokens\": 80\n",
    "}\n",
    "\n",
    "response = requests.post(url, json=payload, stream=True)\n",
    "for line in response.iter_lines(decode_unicode=True):\n",
    "    if line:  # SSE lines example: \"data: some token\\n\\n\"\n",
    "        print(line)\n"
   ]
  }
 ],
 "metadata": {
  "kernelspec": {
   "display_name": "Python 3",
   "language": "python",
   "name": "python3"
  },
  "language_info": {
   "codemirror_mode": {
    "name": "ipython",
    "version": 3
   },
   "file_extension": ".py",
   "mimetype": "text/x-python",
   "name": "python",
   "nbconvert_exporter": "python",
   "pygments_lexer": "ipython3",
   "version": "3.12.2"
  }
 },
 "nbformat": 4,
 "nbformat_minor": 5
}
